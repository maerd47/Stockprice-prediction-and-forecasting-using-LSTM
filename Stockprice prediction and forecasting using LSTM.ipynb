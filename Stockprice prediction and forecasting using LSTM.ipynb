{
 "cells": [
  {
   "cell_type": "markdown",
   "metadata": {},
   "source": [
    "1. We will collect the Stock data -- AAPL\n",
    "2. Preprocess the Data- Train and Test\n",
    "3. Create An Stacked LSTM model\n",
    "4. Predict the test data and plot the output\n",
    "5. Predict the future 30 days and plot the output"
   ]
  },
  {
   "cell_type": "markdown",
   "metadata": {},
   "source": [
    "# Stock Market Prediction And Forecasting Using Stacked LSTM"
   ]
  },
  {
   "cell_type": "code",
   "execution_count": null,
   "metadata": {},
   "outputs": [],
   "source": [
    "### Keras and Tensorflow >2.0"
   ]
  },
  {
   "cell_type": "code",
   "execution_count": 4,
   "metadata": {},
   "outputs": [],
   "source": [
    "### Data Collection\n",
    "import pandas_datareader as pdr\n",
    "key=\"45b7b267dfc1c37497a82d4cfecc72d0512d8fe5\""
   ]
  },
  {
   "cell_type": "code",
   "execution_count": 5,
   "metadata": {},
   "outputs": [],
   "source": [
    "df = pdr.get_data_tiingo('AAPL', api_key=key)"
   ]
  },
  {
   "cell_type": "code",
   "execution_count": 6,
   "metadata": {},
   "outputs": [],
   "source": [
    "df.to_csv('C:\\\\Users\\sm\\Documents\\Data science\\Examples\\Deep Learning\\KN\\Stockprice prediction and forecasting using LSTM\\\\AAPL.csv')\n"
   ]
  },
  {
   "cell_type": "code",
   "execution_count": 7,
   "metadata": {},
   "outputs": [],
   "source": [
    "import pandas as pd"
   ]
  },
  {
   "cell_type": "code",
   "execution_count": 9,
   "metadata": {},
   "outputs": [],
   "source": [
    "df=pd.read_csv('C:\\\\Users\\sm\\Documents\\Data science\\Examples\\Deep Learning\\KN\\Stockprice prediction and forecasting using LSTM\\\\AAPL.csv')\n"
   ]
  },
  {
   "cell_type": "code",
   "execution_count": 10,
   "metadata": {},
   "outputs": [
    {
     "data": {
      "text/html": [
       "<div>\n",
       "<style scoped>\n",
       "    .dataframe tbody tr th:only-of-type {\n",
       "        vertical-align: middle;\n",
       "    }\n",
       "\n",
       "    .dataframe tbody tr th {\n",
       "        vertical-align: top;\n",
       "    }\n",
       "\n",
       "    .dataframe thead th {\n",
       "        text-align: right;\n",
       "    }\n",
       "</style>\n",
       "<table border=\"1\" class=\"dataframe\">\n",
       "  <thead>\n",
       "    <tr style=\"text-align: right;\">\n",
       "      <th></th>\n",
       "      <th>symbol</th>\n",
       "      <th>date</th>\n",
       "      <th>close</th>\n",
       "      <th>high</th>\n",
       "      <th>low</th>\n",
       "      <th>open</th>\n",
       "      <th>volume</th>\n",
       "      <th>adjClose</th>\n",
       "      <th>adjHigh</th>\n",
       "      <th>adjLow</th>\n",
       "      <th>adjOpen</th>\n",
       "      <th>adjVolume</th>\n",
       "      <th>divCash</th>\n",
       "      <th>splitFactor</th>\n",
       "    </tr>\n",
       "  </thead>\n",
       "  <tbody>\n",
       "    <tr>\n",
       "      <th>0</th>\n",
       "      <td>AAPL</td>\n",
       "      <td>2015-11-11 00:00:00+00:00</td>\n",
       "      <td>116.110</td>\n",
       "      <td>117.42</td>\n",
       "      <td>115.21</td>\n",
       "      <td>116.37</td>\n",
       "      <td>45217971</td>\n",
       "      <td>26.889750</td>\n",
       "      <td>27.193131</td>\n",
       "      <td>26.681320</td>\n",
       "      <td>26.949963</td>\n",
       "      <td>180871884</td>\n",
       "      <td>0.0</td>\n",
       "      <td>1.0</td>\n",
       "    </tr>\n",
       "    <tr>\n",
       "      <th>1</th>\n",
       "      <td>AAPL</td>\n",
       "      <td>2015-11-12 00:00:00+00:00</td>\n",
       "      <td>115.720</td>\n",
       "      <td>116.82</td>\n",
       "      <td>115.65</td>\n",
       "      <td>116.26</td>\n",
       "      <td>32525579</td>\n",
       "      <td>26.799431</td>\n",
       "      <td>27.054178</td>\n",
       "      <td>26.783219</td>\n",
       "      <td>26.924489</td>\n",
       "      <td>130102316</td>\n",
       "      <td>0.0</td>\n",
       "      <td>1.0</td>\n",
       "    </tr>\n",
       "    <tr>\n",
       "      <th>2</th>\n",
       "      <td>AAPL</td>\n",
       "      <td>2015-11-13 00:00:00+00:00</td>\n",
       "      <td>112.340</td>\n",
       "      <td>115.57</td>\n",
       "      <td>112.27</td>\n",
       "      <td>115.20</td>\n",
       "      <td>45812403</td>\n",
       "      <td>26.016661</td>\n",
       "      <td>26.764692</td>\n",
       "      <td>26.000450</td>\n",
       "      <td>26.679005</td>\n",
       "      <td>183249612</td>\n",
       "      <td>0.0</td>\n",
       "      <td>1.0</td>\n",
       "    </tr>\n",
       "    <tr>\n",
       "      <th>3</th>\n",
       "      <td>AAPL</td>\n",
       "      <td>2015-11-16 00:00:00+00:00</td>\n",
       "      <td>114.175</td>\n",
       "      <td>114.24</td>\n",
       "      <td>111.00</td>\n",
       "      <td>111.38</td>\n",
       "      <td>38106701</td>\n",
       "      <td>26.441626</td>\n",
       "      <td>26.456680</td>\n",
       "      <td>25.706333</td>\n",
       "      <td>25.794336</td>\n",
       "      <td>152426804</td>\n",
       "      <td>0.0</td>\n",
       "      <td>1.0</td>\n",
       "    </tr>\n",
       "    <tr>\n",
       "      <th>4</th>\n",
       "      <td>AAPL</td>\n",
       "      <td>2015-11-17 00:00:00+00:00</td>\n",
       "      <td>113.690</td>\n",
       "      <td>115.05</td>\n",
       "      <td>113.32</td>\n",
       "      <td>114.92</td>\n",
       "      <td>27583101</td>\n",
       "      <td>26.329306</td>\n",
       "      <td>26.644266</td>\n",
       "      <td>26.243618</td>\n",
       "      <td>26.614160</td>\n",
       "      <td>110332404</td>\n",
       "      <td>0.0</td>\n",
       "      <td>1.0</td>\n",
       "    </tr>\n",
       "  </tbody>\n",
       "</table>\n",
       "</div>"
      ],
      "text/plain": [
       "  symbol                       date    close    high     low    open  \\\n",
       "0   AAPL  2015-11-11 00:00:00+00:00  116.110  117.42  115.21  116.37   \n",
       "1   AAPL  2015-11-12 00:00:00+00:00  115.720  116.82  115.65  116.26   \n",
       "2   AAPL  2015-11-13 00:00:00+00:00  112.340  115.57  112.27  115.20   \n",
       "3   AAPL  2015-11-16 00:00:00+00:00  114.175  114.24  111.00  111.38   \n",
       "4   AAPL  2015-11-17 00:00:00+00:00  113.690  115.05  113.32  114.92   \n",
       "\n",
       "     volume   adjClose    adjHigh     adjLow    adjOpen  adjVolume  divCash  \\\n",
       "0  45217971  26.889750  27.193131  26.681320  26.949963  180871884      0.0   \n",
       "1  32525579  26.799431  27.054178  26.783219  26.924489  130102316      0.0   \n",
       "2  45812403  26.016661  26.764692  26.000450  26.679005  183249612      0.0   \n",
       "3  38106701  26.441626  26.456680  25.706333  25.794336  152426804      0.0   \n",
       "4  27583101  26.329306  26.644266  26.243618  26.614160  110332404      0.0   \n",
       "\n",
       "   splitFactor  \n",
       "0          1.0  \n",
       "1          1.0  \n",
       "2          1.0  \n",
       "3          1.0  \n",
       "4          1.0  "
      ]
     },
     "execution_count": 10,
     "metadata": {},
     "output_type": "execute_result"
    }
   ],
   "source": [
    "df.head()"
   ]
  },
  {
   "cell_type": "code",
   "execution_count": 11,
   "metadata": {
    "scrolled": true
   },
   "outputs": [
    {
     "data": {
      "text/html": [
       "<div>\n",
       "<style scoped>\n",
       "    .dataframe tbody tr th:only-of-type {\n",
       "        vertical-align: middle;\n",
       "    }\n",
       "\n",
       "    .dataframe tbody tr th {\n",
       "        vertical-align: top;\n",
       "    }\n",
       "\n",
       "    .dataframe thead th {\n",
       "        text-align: right;\n",
       "    }\n",
       "</style>\n",
       "<table border=\"1\" class=\"dataframe\">\n",
       "  <thead>\n",
       "    <tr style=\"text-align: right;\">\n",
       "      <th></th>\n",
       "      <th>symbol</th>\n",
       "      <th>date</th>\n",
       "      <th>close</th>\n",
       "      <th>high</th>\n",
       "      <th>low</th>\n",
       "      <th>open</th>\n",
       "      <th>volume</th>\n",
       "      <th>adjClose</th>\n",
       "      <th>adjHigh</th>\n",
       "      <th>adjLow</th>\n",
       "      <th>adjOpen</th>\n",
       "      <th>adjVolume</th>\n",
       "      <th>divCash</th>\n",
       "      <th>splitFactor</th>\n",
       "    </tr>\n",
       "  </thead>\n",
       "  <tbody>\n",
       "    <tr>\n",
       "      <th>1253</th>\n",
       "      <td>AAPL</td>\n",
       "      <td>2020-11-03 00:00:00+00:00</td>\n",
       "      <td>110.44</td>\n",
       "      <td>111.49</td>\n",
       "      <td>108.7300</td>\n",
       "      <td>109.66</td>\n",
       "      <td>107624448</td>\n",
       "      <td>110.249578</td>\n",
       "      <td>111.297768</td>\n",
       "      <td>108.542527</td>\n",
       "      <td>109.470923</td>\n",
       "      <td>107624448</td>\n",
       "      <td>0.000</td>\n",
       "      <td>1.0</td>\n",
       "    </tr>\n",
       "    <tr>\n",
       "      <th>1254</th>\n",
       "      <td>AAPL</td>\n",
       "      <td>2020-11-04 00:00:00+00:00</td>\n",
       "      <td>114.95</td>\n",
       "      <td>115.59</td>\n",
       "      <td>112.3500</td>\n",
       "      <td>114.14</td>\n",
       "      <td>138235482</td>\n",
       "      <td>114.751802</td>\n",
       "      <td>115.390699</td>\n",
       "      <td>112.156285</td>\n",
       "      <td>113.943199</td>\n",
       "      <td>138235482</td>\n",
       "      <td>0.000</td>\n",
       "      <td>1.0</td>\n",
       "    </tr>\n",
       "    <tr>\n",
       "      <th>1255</th>\n",
       "      <td>AAPL</td>\n",
       "      <td>2020-11-05 00:00:00+00:00</td>\n",
       "      <td>119.03</td>\n",
       "      <td>119.62</td>\n",
       "      <td>116.8686</td>\n",
       "      <td>117.95</td>\n",
       "      <td>126387074</td>\n",
       "      <td>118.824767</td>\n",
       "      <td>119.413750</td>\n",
       "      <td>116.667094</td>\n",
       "      <td>117.746629</td>\n",
       "      <td>126387074</td>\n",
       "      <td>0.000</td>\n",
       "      <td>1.0</td>\n",
       "    </tr>\n",
       "    <tr>\n",
       "      <th>1256</th>\n",
       "      <td>AAPL</td>\n",
       "      <td>2020-11-06 00:00:00+00:00</td>\n",
       "      <td>118.69</td>\n",
       "      <td>119.20</td>\n",
       "      <td>116.1300</td>\n",
       "      <td>118.32</td>\n",
       "      <td>114457922</td>\n",
       "      <td>118.690000</td>\n",
       "      <td>119.200000</td>\n",
       "      <td>116.130000</td>\n",
       "      <td>118.320000</td>\n",
       "      <td>114457922</td>\n",
       "      <td>0.205</td>\n",
       "      <td>1.0</td>\n",
       "    </tr>\n",
       "    <tr>\n",
       "      <th>1257</th>\n",
       "      <td>AAPL</td>\n",
       "      <td>2020-11-09 00:00:00+00:00</td>\n",
       "      <td>116.32</td>\n",
       "      <td>121.99</td>\n",
       "      <td>116.0500</td>\n",
       "      <td>120.50</td>\n",
       "      <td>153236124</td>\n",
       "      <td>116.320000</td>\n",
       "      <td>121.990000</td>\n",
       "      <td>116.050000</td>\n",
       "      <td>120.500000</td>\n",
       "      <td>153236124</td>\n",
       "      <td>0.000</td>\n",
       "      <td>1.0</td>\n",
       "    </tr>\n",
       "  </tbody>\n",
       "</table>\n",
       "</div>"
      ],
      "text/plain": [
       "     symbol                       date   close    high       low    open  \\\n",
       "1253   AAPL  2020-11-03 00:00:00+00:00  110.44  111.49  108.7300  109.66   \n",
       "1254   AAPL  2020-11-04 00:00:00+00:00  114.95  115.59  112.3500  114.14   \n",
       "1255   AAPL  2020-11-05 00:00:00+00:00  119.03  119.62  116.8686  117.95   \n",
       "1256   AAPL  2020-11-06 00:00:00+00:00  118.69  119.20  116.1300  118.32   \n",
       "1257   AAPL  2020-11-09 00:00:00+00:00  116.32  121.99  116.0500  120.50   \n",
       "\n",
       "         volume    adjClose     adjHigh      adjLow     adjOpen  adjVolume  \\\n",
       "1253  107624448  110.249578  111.297768  108.542527  109.470923  107624448   \n",
       "1254  138235482  114.751802  115.390699  112.156285  113.943199  138235482   \n",
       "1255  126387074  118.824767  119.413750  116.667094  117.746629  126387074   \n",
       "1256  114457922  118.690000  119.200000  116.130000  118.320000  114457922   \n",
       "1257  153236124  116.320000  121.990000  116.050000  120.500000  153236124   \n",
       "\n",
       "      divCash  splitFactor  \n",
       "1253    0.000          1.0  \n",
       "1254    0.000          1.0  \n",
       "1255    0.000          1.0  \n",
       "1256    0.205          1.0  \n",
       "1257    0.000          1.0  "
      ]
     },
     "execution_count": 11,
     "metadata": {},
     "output_type": "execute_result"
    }
   ],
   "source": [
    "df.tail()"
   ]
  },
  {
   "cell_type": "code",
   "execution_count": 51,
   "metadata": {},
   "outputs": [],
   "source": [
    "import numpy as np\n",
    "#df.shape\n",
    "#df.columns\n",
    "#df.info()\n",
    "#df.describe()\n",
    "#df.close.value_counts()\n",
    "#df.nunique()\n",
    "#df.divCash.unique()\n",
    "#df.isnull().sum().value_counts(ascending=False)\n",
    "#df.select_dtypes(include=np.number)\n",
    "#dat = df.drop('close', axis=1)\n",
    "#df.dropna(axis=0)\n",
    "#df.fillna(0)\n",
    "#df.groupby('divCash')['close'].value_counts()\n",
    "#df.groupby('divCash')['close'].agg([np.mean, np.sum, np.std])"
   ]
  },
  {
   "cell_type": "code",
   "execution_count": 59,
   "metadata": {},
   "outputs": [],
   "source": [
    "df1=df.reset_index()['close']"
   ]
  },
  {
   "cell_type": "code",
   "execution_count": 60,
   "metadata": {
    "scrolled": true
   },
   "outputs": [
    {
     "data": {
      "text/plain": [
       "0       116.110\n",
       "1       115.720\n",
       "2       112.340\n",
       "3       114.175\n",
       "4       113.690\n",
       "         ...   \n",
       "1253    110.440\n",
       "1254    114.950\n",
       "1255    119.030\n",
       "1256    118.690\n",
       "1257    116.320\n",
       "Name: close, Length: 1258, dtype: float64"
      ]
     },
     "execution_count": 60,
     "metadata": {},
     "output_type": "execute_result"
    }
   ],
   "source": [
    "df1"
   ]
  },
  {
   "cell_type": "code",
   "execution_count": 61,
   "metadata": {
    "scrolled": true
   },
   "outputs": [
    {
     "data": {
      "text/plain": [
       "[<matplotlib.lines.Line2D at 0x2d2d0864488>]"
      ]
     },
     "execution_count": 61,
     "metadata": {},
     "output_type": "execute_result"
    },
    {
     "data": {
      "image/png": "[encoded data removed]",
      "text/plain": [
       "<Figure size 432x288 with 1 Axes>"
      ]
     },
     "metadata": {
      "needs_background": "light"
     },
     "output_type": "display_data"
    }
   ],
   "source": [
    "import matplotlib.pyplot as plt\n",
    "plt.plot(df1)"
   ]
  },
  {
   "cell_type": "code",
   "execution_count": null,
   "metadata": {},
   "outputs": [],
   "source": [
    "### LSTM are sensitive to the scale of the data. so we apply MinMax scaler"
   ]
  },
  {
   "cell_type": "code",
   "execution_count": 62,
   "metadata": {},
   "outputs": [],
   "source": [
    "import numpy as np"
   ]
  },
  {
   "cell_type": "code",
   "execution_count": 63,
   "metadata": {},
   "outputs": [],
   "source": [
    "from sklearn.preprocessing import MinMaxScaler\n",
    "scaler=MinMaxScaler(feature_range=(0,1))\n",
    "df1=scaler.fit_transform(np.array(df1).reshape(-1,1))"
   ]
  },
  {
   "cell_type": "code",
   "execution_count": 66,
   "metadata": {
    "scrolled": true
   },
   "outputs": [
    {
     "name": "stdout",
     "output_type": "stream",
     "text": [
      "[[0.06198437]\n",
      " [0.0610463 ]\n",
      " [0.05291642]\n",
      " ...\n",
      " [0.06900782]\n",
      " [0.06819002]\n",
      " [0.06248948]]\n"
     ]
    }
   ],
   "source": [
    "print(df1)"
   ]
  },
  {
   "cell_type": "code",
   "execution_count": 67,
   "metadata": {},
   "outputs": [],
   "source": [
    "##splitting dataset into train and test split\n",
    "training_size=int(len(df1)*0.65)\n",
    "test_size=len(df1)-training_size\n",
    "train_data,test_data=df1[0:training_size,:],df1[training_size:len(df1),:1]"
   ]
  },
  {
   "cell_type": "code",
   "execution_count": 68,
   "metadata": {},
   "outputs": [
    {
     "data": {
      "text/plain": [
       "(817, 441)"
      ]
     },
     "execution_count": 68,
     "metadata": {},
     "output_type": "execute_result"
    }
   ],
   "source": [
    "training_size,test_size"
   ]
  },
  {
   "cell_type": "code",
   "execution_count": 69,
   "metadata": {},
   "outputs": [],
   "source": [
    "import numpy\n",
    "# convert an array of values into a dataset matrix\n",
    "def create_dataset(dataset, time_step=1):\n",
    "    dataX, dataY = [], []\n",
    "    for i in range(len(dataset)-time_step-1):\n",
    "        a = dataset[i:(i+time_step), 0]   ###i=0, 0,1,2,3-----99   100 \n",
    "        dataX.append(a)\n",
    "        dataY.append(dataset[i + time_step, 0])\n",
    "    return numpy.array(dataX), numpy.array(dataY)"
   ]
  },
  {
   "cell_type": "code",
   "execution_count": 70,
   "metadata": {},
   "outputs": [],
   "source": [
    "# reshape into X=t,t+1,t+2,t+3 and Y=t+4\n",
    "time_step = 100\n",
    "X_train, y_train = create_dataset(train_data, time_step)\n",
    "X_test, ytest = create_dataset(test_data, time_step)"
   ]
  },
  {
   "cell_type": "code",
   "execution_count": 71,
   "metadata": {},
   "outputs": [
    {
     "name": "stdout",
     "output_type": "stream",
     "text": [
      "(716, 100)\n",
      "(716,)\n"
     ]
    },
    {
     "data": {
      "text/plain": [
       "(None, None)"
      ]
     },
     "execution_count": 71,
     "metadata": {},
     "output_type": "execute_result"
    }
   ],
   "source": [
    "print(X_train.shape), print(y_train.shape)"
   ]
  },
  {
   "cell_type": "code",
   "execution_count": 72,
   "metadata": {},
   "outputs": [
    {
     "name": "stdout",
     "output_type": "stream",
     "text": [
      "(340, 100)\n",
      "(340,)\n"
     ]
    },
    {
     "data": {
      "text/plain": [
       "(None, None)"
      ]
     },
     "execution_count": 72,
     "metadata": {},
     "output_type": "execute_result"
    }
   ],
   "source": [
    "print(X_test.shape), print(ytest.shape)"
   ]
  },
  {
   "cell_type": "code",
   "execution_count": 73,
   "metadata": {},
   "outputs": [],
   "source": [
    "# reshape input to be [samples, time steps, features] which is required for LSTM\n",
    "X_train =X_train.reshape(X_train.shape[0],X_train.shape[1] , 1)\n",
    "X_test = X_test.reshape(X_test.shape[0],X_test.shape[1] , 1)"
   ]
  },
  {
   "cell_type": "code",
   "execution_count": 75,
   "metadata": {},
   "outputs": [],
   "source": [
    "### Create the Stacked LSTM model\n",
    "from tensorflow.keras.models import Sequential\n",
    "from tensorflow.keras.layers import Dense\n",
    "from tensorflow.keras.layers import LSTM"
   ]
  },
  {
   "cell_type": "code",
   "execution_count": 76,
   "metadata": {},
   "outputs": [
    {
     "name": "stdout",
     "output_type": "stream",
     "text": [
      "WARNING:tensorflow:From C:\\Users\\sm\\anaconda3\\lib\\site-packages\\tensorflow\\python\\ops\\init_ops.py:1251: calling VarianceScaling.__init__ (from tensorflow.python.ops.init_ops) with dtype is deprecated and will be removed in a future version.\n",
      "Instructions for updating:\n",
      "Call initializer instance with the dtype argument instead of passing it to the constructor\n"
     ]
    }
   ],
   "source": [
    "model=Sequential()\n",
    "model.add(LSTM(50,return_sequences=True,input_shape=(100,1)))\n",
    "model.add(LSTM(50,return_sequences=True))\n",
    "model.add(LSTM(50))\n",
    "model.add(Dense(1))\n",
    "model.compile(loss='mean_squared_error',optimizer='adam')"
   ]
  },
  {
   "cell_type": "code",
   "execution_count": 77,
   "metadata": {},
   "outputs": [
    {
     "name": "stdout",
     "output_type": "stream",
     "text": [
      "Model: \"sequential\"\n",
      "_________________________________________________________________\n",
      "Layer (type)                 Output Shape              Param #   \n",
      "=================================================================\n",
      "lstm (LSTM)                  (None, 100, 50)           10400     \n",
      "_________________________________________________________________\n",
      "lstm_1 (LSTM)                (None, 100, 50)           20200     \n",
      "_________________________________________________________________\n",
      "lstm_2 (LSTM)                (None, 50)                20200     \n",
      "_________________________________________________________________\n",
      "dense (Dense)                (None, 1)                 51        \n",
      "=================================================================\n",
      "Total params: 50,851\n",
      "Trainable params: 50,851\n",
      "Non-trainable params: 0\n",
      "_________________________________________________________________\n"
     ]
    }
   ],
   "source": [
    "model.summary()"
   ]
  },
  {
   "cell_type": "code",
   "execution_count": 78,
   "metadata": {
    "scrolled": false
   },
   "outputs": [
    {
     "name": "stdout",
     "output_type": "stream",
     "text": [
      "Train on 716 samples, validate on 340 samples\n",
      "WARNING:tensorflow:From C:\\Users\\sm\\anaconda3\\lib\\site-packages\\tensorflow\\python\\ops\\math_grad.py:1250: add_dispatch_support.<locals>.wrapper (from tensorflow.python.ops.array_ops) is deprecated and will be removed in a future version.\n",
      "Instructions for updating:\n",
      "Use tf.where in 2.0, which has the same broadcast rule as np.where\n",
      "Epoch 1/100\n",
      "716/716 [==============================] - 24s 34ms/sample - loss: 0.0096 - val_loss: 0.0472\n",
      "Epoch 2/100\n",
      "716/716 [==============================] - 17s 24ms/sample - loss: 0.0021 - val_loss: 0.0195\n",
      "Epoch 3/100\n",
      "716/716 [==============================] - 17s 24ms/sample - loss: 6.9297e-04 - val_loss: 0.0250\n",
      "Epoch 4/100\n",
      "716/716 [==============================] - 19s 26ms/sample - loss: 4.9046e-04 - val_loss: 0.0186\n",
      "Epoch 5/100\n",
      "716/716 [==============================] - 20s 28ms/sample - loss: 3.5196e-04 - val_loss: 0.0176\n",
      "Epoch 6/100\n",
      "716/716 [==============================] - 18s 26ms/sample - loss: 3.1651e-04 - val_loss: 0.0175\n",
      "Epoch 7/100\n",
      "716/716 [==============================] - 19s 27ms/sample - loss: 3.0701e-04 - val_loss: 0.0167\n",
      "Epoch 8/100\n",
      "716/716 [==============================] - 19s 27ms/sample - loss: 2.8887e-04 - val_loss: 0.0164\n",
      "Epoch 9/100\n",
      "716/716 [==============================] - 19s 26ms/sample - loss: 2.8701e-04 - val_loss: 0.0161\n",
      "Epoch 10/100\n",
      "716/716 [==============================] - 19s 26ms/sample - loss: 2.6979e-04 - val_loss: 0.0157\n",
      "Epoch 11/100\n",
      "716/716 [==============================] - 19s 26ms/sample - loss: 2.6405e-04 - val_loss: 0.0153\n",
      "Epoch 12/100\n",
      "716/716 [==============================] - 19s 27ms/sample - loss: 2.5504e-04 - val_loss: 0.0150\n",
      "Epoch 13/100\n",
      "716/716 [==============================] - 19s 27ms/sample - loss: 2.4548e-04 - val_loss: 0.0144\n",
      "Epoch 14/100\n",
      "716/716 [==============================] - 20s 28ms/sample - loss: 2.3581e-04 - val_loss: 0.0139\n",
      "Epoch 15/100\n",
      "716/716 [==============================] - 19s 27ms/sample - loss: 2.3525e-04 - val_loss: 0.0142\n",
      "Epoch 16/100\n",
      "716/716 [==============================] - 20s 28ms/sample - loss: 2.2428e-04 - val_loss: 0.0142\n",
      "Epoch 17/100\n",
      "716/716 [==============================] - 19s 27ms/sample - loss: 2.5517e-04 - val_loss: 0.0126\n",
      "Epoch 18/100\n",
      "716/716 [==============================] - 19s 26ms/sample - loss: 2.6700e-04 - val_loss: 0.0134\n",
      "Epoch 19/100\n",
      "716/716 [==============================] - 19s 27ms/sample - loss: 2.0331e-04 - val_loss: 0.0122\n",
      "Epoch 20/100\n",
      "716/716 [==============================] - 19s 26ms/sample - loss: 1.9970e-04 - val_loss: 0.0144\n",
      "Epoch 21/100\n",
      "716/716 [==============================] - 19s 26ms/sample - loss: 2.2156e-04 - val_loss: 0.0119\n",
      "Epoch 22/100\n",
      "716/716 [==============================] - 19s 26ms/sample - loss: 1.9369e-04 - val_loss: 0.0137\n",
      "Epoch 23/100\n",
      "716/716 [==============================] - 19s 27ms/sample - loss: 2.0946e-04 - val_loss: 0.0113\n",
      "Epoch 24/100\n",
      "716/716 [==============================] - 19s 26ms/sample - loss: 3.3386e-04 - val_loss: 0.0143\n",
      "Epoch 25/100\n",
      "716/716 [==============================] - 19s 26ms/sample - loss: 2.7662e-04 - val_loss: 0.0113\n",
      "Epoch 26/100\n",
      "716/716 [==============================] - 20s 28ms/sample - loss: 2.0835e-04 - val_loss: 0.0121\n",
      "Epoch 27/100\n",
      "716/716 [==============================] - 20s 27ms/sample - loss: 1.7496e-04 - val_loss: 0.0117\n",
      "Epoch 28/100\n",
      "716/716 [==============================] - 19s 27ms/sample - loss: 1.8434e-04 - val_loss: 0.0112\n",
      "Epoch 29/100\n",
      "716/716 [==============================] - 19s 26ms/sample - loss: 2.1511e-04 - val_loss: 0.0113\n",
      "Epoch 30/100\n",
      "716/716 [==============================] - 19s 26ms/sample - loss: 1.7546e-04 - val_loss: 0.0116\n",
      "Epoch 31/100\n",
      "716/716 [==============================] - 19s 27ms/sample - loss: 1.7385e-04 - val_loss: 0.0117\n",
      "Epoch 32/100\n",
      "716/716 [==============================] - 19s 27ms/sample - loss: 1.7197e-04 - val_loss: 0.0133\n",
      "Epoch 33/100\n",
      "716/716 [==============================] - 17s 23ms/sample - loss: 1.8159e-04 - val_loss: 0.0114\n",
      "Epoch 34/100\n",
      "716/716 [==============================] - 19s 26ms/sample - loss: 1.6642e-04 - val_loss: 0.0124\n",
      "Epoch 35/100\n",
      "716/716 [==============================] - 18s 25ms/sample - loss: 1.7481e-04 - val_loss: 0.0113\n",
      "Epoch 36/100\n",
      "716/716 [==============================] - 18s 25ms/sample - loss: 1.6862e-04 - val_loss: 0.0116\n",
      "Epoch 37/100\n",
      "716/716 [==============================] - 18s 25ms/sample - loss: 1.6117e-04 - val_loss: 0.0116\n",
      "Epoch 38/100\n",
      "716/716 [==============================] - 18s 25ms/sample - loss: 1.5537e-04 - val_loss: 0.0119\n",
      "Epoch 39/100\n",
      "716/716 [==============================] - 16s 22ms/sample - loss: 1.5871e-04 - val_loss: 0.0110\n",
      "Epoch 40/100\n",
      "716/716 [==============================] - 18s 25ms/sample - loss: 1.9526e-04 - val_loss: 0.0113\n",
      "Epoch 41/100\n",
      "716/716 [==============================] - 19s 26ms/sample - loss: 1.8755e-04 - val_loss: 0.0112\n",
      "Epoch 42/100\n",
      "716/716 [==============================] - 20s 27ms/sample - loss: 1.5811e-04 - val_loss: 0.0111\n",
      "Epoch 43/100\n",
      "716/716 [==============================] - 19s 26ms/sample - loss: 1.6473e-04 - val_loss: 0.0103\n",
      "Epoch 44/100\n",
      "716/716 [==============================] - 19s 26ms/sample - loss: 1.6445e-04 - val_loss: 0.0116\n",
      "Epoch 45/100\n",
      "716/716 [==============================] - 20s 27ms/sample - loss: 1.6953e-04 - val_loss: 0.0107\n",
      "Epoch 46/100\n",
      "716/716 [==============================] - 19s 27ms/sample - loss: 1.6637e-04 - val_loss: 0.0104\n",
      "Epoch 47/100\n",
      "716/716 [==============================] - 19s 27ms/sample - loss: 1.6659e-04 - val_loss: 0.0112\n",
      "Epoch 48/100\n",
      "716/716 [==============================] - 18s 26ms/sample - loss: 1.5081e-04 - val_loss: 0.0104\n",
      "Epoch 49/100\n",
      "716/716 [==============================] - 19s 27ms/sample - loss: 1.4523e-04 - val_loss: 0.0117\n",
      "Epoch 50/100\n",
      "716/716 [==============================] - 19s 26ms/sample - loss: 1.5076e-04 - val_loss: 0.0112\n",
      "Epoch 51/100\n",
      "716/716 [==============================] - 19s 26ms/sample - loss: 1.4314e-04 - val_loss: 0.0110\n",
      "Epoch 52/100\n",
      "716/716 [==============================] - 19s 26ms/sample - loss: 1.4523e-04 - val_loss: 0.0103\n",
      "Epoch 53/100\n",
      "716/716 [==============================] - 19s 27ms/sample - loss: 1.4498e-04 - val_loss: 0.0107\n",
      "Epoch 54/100\n",
      "716/716 [==============================] - 19s 26ms/sample - loss: 1.4111e-04 - val_loss: 0.0109\n",
      "Epoch 55/100\n",
      "716/716 [==============================] - 20s 28ms/sample - loss: 1.4441e-04 - val_loss: 0.0111\n",
      "Epoch 56/100\n",
      "716/716 [==============================] - 19s 27ms/sample - loss: 1.4042e-04 - val_loss: 0.0108\n",
      "Epoch 57/100\n",
      "716/716 [==============================] - 22s 31ms/sample - loss: 1.3990e-04 - val_loss: 0.0107\n",
      "Epoch 58/100\n",
      "716/716 [==============================] - 19s 27ms/sample - loss: 1.4775e-04 - val_loss: 0.0113\n",
      "Epoch 59/100\n",
      "716/716 [==============================] - 18s 25ms/sample - loss: 1.5846e-04 - val_loss: 0.0112\n",
      "Epoch 60/100\n",
      "716/716 [==============================] - 18s 25ms/sample - loss: 1.3716e-04 - val_loss: 0.0100\n",
      "Epoch 61/100\n",
      "716/716 [==============================] - 18s 26ms/sample - loss: 1.3621e-04 - val_loss: 0.0095\n",
      "Epoch 62/100\n",
      "716/716 [==============================] - 19s 27ms/sample - loss: 1.5070e-04 - val_loss: 0.0107\n",
      "Epoch 63/100\n",
      "716/716 [==============================] - 18s 26ms/sample - loss: 1.5461e-04 - val_loss: 0.0093\n",
      "Epoch 64/100\n",
      "716/716 [==============================] - 16s 23ms/sample - loss: 1.2774e-04 - val_loss: 0.0094\n",
      "Epoch 65/100\n",
      "716/716 [==============================] - 17s 23ms/sample - loss: 1.3914e-04 - val_loss: 0.0101\n",
      "Epoch 66/100\n",
      "716/716 [==============================] - 16s 23ms/sample - loss: 1.3681e-04 - val_loss: 0.0091\n",
      "Epoch 67/100\n",
      "716/716 [==============================] - 16s 23ms/sample - loss: 1.3190e-04 - val_loss: 0.0096\n",
      "Epoch 68/100\n",
      "716/716 [==============================] - 16s 23ms/sample - loss: 1.3411e-04 - val_loss: 0.0103\n",
      "Epoch 69/100\n",
      "716/716 [==============================] - 16s 23ms/sample - loss: 1.5711e-04 - val_loss: 0.0091\n",
      "Epoch 70/100\n",
      "716/716 [==============================] - 16s 23ms/sample - loss: 1.7185e-04 - val_loss: 0.0093\n",
      "Epoch 71/100\n",
      "716/716 [==============================] - 16s 23ms/sample - loss: 1.2920e-04 - val_loss: 0.0087\n",
      "Epoch 72/100\n"
     ]
    },
    {
     "name": "stdout",
     "output_type": "stream",
     "text": [
      "716/716 [==============================] - 16s 23ms/sample - loss: 1.2761e-04 - val_loss: 0.0090\n",
      "Epoch 73/100\n",
      "716/716 [==============================] - 16s 22ms/sample - loss: 1.2093e-04 - val_loss: 0.0091\n",
      "Epoch 74/100\n",
      "716/716 [==============================] - 18s 25ms/sample - loss: 1.2151e-04 - val_loss: 0.0092\n",
      "Epoch 75/100\n",
      "716/716 [==============================] - 16s 23ms/sample - loss: 1.2877e-04 - val_loss: 0.0092\n",
      "Epoch 76/100\n",
      "716/716 [==============================] - 16s 23ms/sample - loss: 1.4358e-04 - val_loss: 0.0085\n",
      "Epoch 77/100\n",
      "716/716 [==============================] - 16s 23ms/sample - loss: 1.3742e-04 - val_loss: 0.0086\n",
      "Epoch 78/100\n",
      "716/716 [==============================] - 16s 23ms/sample - loss: 1.1834e-04 - val_loss: 0.0088\n",
      "Epoch 79/100\n",
      "716/716 [==============================] - 18s 25ms/sample - loss: 1.1887e-04 - val_loss: 0.0088\n",
      "Epoch 80/100\n",
      "716/716 [==============================] - 18s 26ms/sample - loss: 1.2075e-04 - val_loss: 0.0085\n",
      "Epoch 81/100\n",
      "716/716 [==============================] - 16s 22ms/sample - loss: 1.1830e-04 - val_loss: 0.0086\n",
      "Epoch 82/100\n",
      "716/716 [==============================] - 16s 22ms/sample - loss: 1.1055e-04 - val_loss: 0.0083\n",
      "Epoch 83/100\n",
      "716/716 [==============================] - 16s 22ms/sample - loss: 1.1163e-04 - val_loss: 0.0084\n",
      "Epoch 84/100\n",
      "716/716 [==============================] - 16s 22ms/sample - loss: 1.1037e-04 - val_loss: 0.0083\n",
      "Epoch 85/100\n",
      "716/716 [==============================] - 16s 22ms/sample - loss: 1.1399e-04 - val_loss: 0.0080\n",
      "Epoch 86/100\n",
      "716/716 [==============================] - 16s 22ms/sample - loss: 1.0983e-04 - val_loss: 0.0082\n",
      "Epoch 87/100\n",
      "716/716 [==============================] - 16s 23ms/sample - loss: 1.0614e-04 - val_loss: 0.0085\n",
      "Epoch 88/100\n",
      "716/716 [==============================] - 16s 22ms/sample - loss: 1.2018e-04 - val_loss: 0.0078\n",
      "Epoch 89/100\n",
      "716/716 [==============================] - 16s 22ms/sample - loss: 1.1734e-04 - val_loss: 0.0079\n",
      "Epoch 90/100\n",
      "716/716 [==============================] - 16s 22ms/sample - loss: 1.0821e-04 - val_loss: 0.0081\n",
      "Epoch 91/100\n",
      "716/716 [==============================] - 16s 22ms/sample - loss: 1.0476e-04 - val_loss: 0.0080\n",
      "Epoch 92/100\n",
      "716/716 [==============================] - 16s 22ms/sample - loss: 1.0232e-04 - val_loss: 0.0080\n",
      "Epoch 93/100\n",
      "716/716 [==============================] - 16s 22ms/sample - loss: 1.0149e-04 - val_loss: 0.0076\n",
      "Epoch 94/100\n",
      "716/716 [==============================] - 17s 24ms/sample - loss: 1.0925e-04 - val_loss: 0.0077\n",
      "Epoch 95/100\n",
      "716/716 [==============================] - 19s 26ms/sample - loss: 1.0035e-04 - val_loss: 0.0075\n",
      "Epoch 96/100\n",
      "716/716 [==============================] - 16s 23ms/sample - loss: 9.7853e-05 - val_loss: 0.0079\n",
      "Epoch 97/100\n",
      "716/716 [==============================] - 16s 23ms/sample - loss: 9.8603e-05 - val_loss: 0.0072\n",
      "Epoch 98/100\n",
      "716/716 [==============================] - 21s 29ms/sample - loss: 1.1738e-04 - val_loss: 0.0074\n",
      "Epoch 99/100\n",
      "716/716 [==============================] - 18s 25ms/sample - loss: 1.0582e-04 - val_loss: 0.0079\n",
      "Epoch 100/100\n",
      "716/716 [==============================] - 18s 26ms/sample - loss: 1.1160e-04 - val_loss: 0.0070\n"
     ]
    },
    {
     "data": {
      "text/plain": [
       "<tensorflow.python.keras.callbacks.History at 0x2d2daa7eb08>"
      ]
     },
     "execution_count": 78,
     "metadata": {},
     "output_type": "execute_result"
    }
   ],
   "source": [
    "model.fit(X_train,y_train,validation_data=(X_test,ytest),epochs=100,batch_size=64,verbose=1)"
   ]
  },
  {
   "cell_type": "code",
   "execution_count": 79,
   "metadata": {},
   "outputs": [],
   "source": [
    "import tensorflow as tf"
   ]
  },
  {
   "cell_type": "code",
   "execution_count": 80,
   "metadata": {},
   "outputs": [
    {
     "data": {
      "text/plain": [
       "'1.14.0'"
      ]
     },
     "execution_count": 80,
     "metadata": {},
     "output_type": "execute_result"
    }
   ],
   "source": [
    "tf.__version__"
   ]
  },
  {
   "cell_type": "code",
   "execution_count": 81,
   "metadata": {},
   "outputs": [],
   "source": [
    "### Lets Do the prediction and check performance metrics\n",
    "train_predict=model.predict(X_train)\n",
    "test_predict=model.predict(X_test)"
   ]
  },
  {
   "cell_type": "code",
   "execution_count": 82,
   "metadata": {},
   "outputs": [],
   "source": [
    "##Transformback to original form\n",
    "train_predict=scaler.inverse_transform(train_predict)\n",
    "test_predict=scaler.inverse_transform(test_predict)"
   ]
  },
  {
   "cell_type": "code",
   "execution_count": 83,
   "metadata": {},
   "outputs": [
    {
     "data": {
      "text/plain": [
       "159.38810074405959"
      ]
     },
     "execution_count": 83,
     "metadata": {},
     "output_type": "execute_result"
    }
   ],
   "source": [
    "### Calculate RMSE performance metrics\n",
    "import math\n",
    "from sklearn.metrics import mean_squared_error\n",
    "math.sqrt(mean_squared_error(y_train,train_predict))"
   ]
  },
  {
   "cell_type": "code",
   "execution_count": 84,
   "metadata": {},
   "outputs": [
    {
     "data": {
      "text/plain": [
       "281.4411473422175"
      ]
     },
     "execution_count": 84,
     "metadata": {},
     "output_type": "execute_result"
    }
   ],
   "source": [
    "### Test Data RMSE\n",
    "math.sqrt(mean_squared_error(ytest,test_predict))"
   ]
  },
  {
   "cell_type": "code",
   "execution_count": 85,
   "metadata": {
    "scrolled": true
   },
   "outputs": [
    {
     "data": {
      "image/png": "[encoded data removed]",
      "text/plain": [
       "<Figure size 432x288 with 1 Axes>"
      ]
     },
     "metadata": {
      "needs_background": "light"
     },
     "output_type": "display_data"
    }
   ],
   "source": [
    "### Plotting \n",
    "# shift train predictions for plotting\n",
    "look_back=100\n",
    "trainPredictPlot = numpy.empty_like(df1)\n",
    "trainPredictPlot[:, :] = np.nan\n",
    "trainPredictPlot[look_back:len(train_predict)+look_back, :] = train_predict\n",
    "# shift test predictions for plotting\n",
    "testPredictPlot = numpy.empty_like(df1)\n",
    "testPredictPlot[:, :] = numpy.nan\n",
    "testPredictPlot[len(train_predict)+(look_back*2)+1:len(df1)-1, :] = test_predict\n",
    "# plot baseline and predictions\n",
    "plt.plot(scaler.inverse_transform(df1))\n",
    "plt.plot(trainPredictPlot)\n",
    "plt.plot(testPredictPlot)\n",
    "plt.show()"
   ]
  },
  {
   "cell_type": "code",
   "execution_count": 89,
   "metadata": {},
   "outputs": [
    {
     "data": {
      "text/plain": [
       "441"
      ]
     },
     "execution_count": 89,
     "metadata": {},
     "output_type": "execute_result"
    }
   ],
   "source": [
    "len(test_data)"
   ]
  },
  {
   "cell_type": "code",
   "execution_count": 90,
   "metadata": {},
   "outputs": [
    {
     "data": {
      "text/plain": [
       "(1, 100)"
      ]
     },
     "execution_count": 90,
     "metadata": {},
     "output_type": "execute_result"
    }
   ],
   "source": [
    "x_input=test_data[341:].reshape(1,-1)\n",
    "x_input.shape"
   ]
  },
  {
   "cell_type": "code",
   "execution_count": 94,
   "metadata": {},
   "outputs": [],
   "source": [
    "temp_input=list(x_input)\n",
    "temp_input=temp_input[0].tolist()"
   ]
  },
  {
   "cell_type": "code",
   "execution_count": 96,
   "metadata": {},
   "outputs": [
    {
     "name": "stdout",
     "output_type": "stream",
     "text": [
      "[0.05853318]\n",
      "101\n",
      "1 day input [0.64589296 0.6643175  0.64875526 0.66025256 0.63328924 0.65289236\n",
      " 0.66015634 0.65849669 0.65849669 0.68192423 0.6791341  0.70001203\n",
      " 0.7039567  0.70556825 0.70131088 0.71651233 0.72293446 0.711365\n",
      " 0.70948888 0.72901984 0.71595911 0.71858088 0.67598316 0.67377029\n",
      " 0.69488876 0.67990379 0.69710162 0.70816597 0.80505111 0.83081179\n",
      " 0.83781118 0.8416356  0.87858088 0.85173782 0.86727601 0.83502105\n",
      " 0.86999399 0.88923632 0.88825015 0.8853638  0.89455201 0.89594708\n",
      " 0.92064943 0.97929044 0.99360192 0.98366807 1.         0.98544799\n",
      " 0.9834997  0.09308479 0.10544799 0.09876127 0.07345761 0.07365003\n",
      " 0.05407096 0.06489477 0.0556825  0.05209862 0.06016837 0.06061335\n",
      " 0.0524113  0.04810583 0.03968731 0.04748046 0.05164161 0.04036079\n",
      " 0.04300661 0.0527721  0.05921828 0.05712568 0.06126278 0.06361996\n",
      " 0.05455201 0.06292243 0.05488876 0.05950692 0.05924233 0.06405292\n",
      " 0.08192423 0.07398677 0.07420325 0.07304871 0.06898376 0.06167168\n",
      " 0.06535177 0.06381239 0.06111846 0.0594107  0.05943476 0.06316296\n",
      " 0.05017438 0.06008419 0.044546   0.04432952 0.04834636 0.05919423\n",
      " 0.06900782 0.06819002 0.06248948 0.05853318]\n",
      "1 day output [[0.06114216]]\n",
      "2 day input [0.6643175  0.64875526 0.66025256 0.63328924 0.65289236 0.66015634\n",
      " 0.65849669 0.65849669 0.68192423 0.6791341  0.70001203 0.7039567\n",
      " 0.70556825 0.70131088 0.71651233 0.72293446 0.711365   0.70948888\n",
      " 0.72901984 0.71595911 0.71858088 0.67598316 0.67377029 0.69488876\n",
      " 0.67990379 0.69710162 0.70816597 0.80505111 0.83081179 0.83781118\n",
      " 0.8416356  0.87858088 0.85173782 0.86727601 0.83502105 0.86999399\n",
      " 0.88923632 0.88825015 0.8853638  0.89455201 0.89594708 0.92064943\n",
      " 0.97929044 0.99360192 0.98366807 1.         0.98544799 0.9834997\n",
      " 0.09308479 0.10544799 0.09876127 0.07345761 0.07365003 0.05407096\n",
      " 0.06489477 0.0556825  0.05209862 0.06016837 0.06061335 0.0524113\n",
      " 0.04810583 0.03968731 0.04748046 0.05164161 0.04036079 0.04300661\n",
      " 0.0527721  0.05921828 0.05712568 0.06126278 0.06361996 0.05455201\n",
      " 0.06292243 0.05488876 0.05950692 0.05924233 0.06405292 0.08192423\n",
      " 0.07398677 0.07420325 0.07304871 0.06898376 0.06167168 0.06535177\n",
      " 0.06381239 0.06111846 0.0594107  0.05943476 0.06316296 0.05017438\n",
      " 0.06008419 0.044546   0.04432952 0.04834636 0.05919423 0.06900782\n",
      " 0.06819002 0.06248948 0.05853318 0.06114216]\n",
      "2 day output [[0.06294128]]\n",
      "3 day input [0.64875526 0.66025256 0.63328924 0.65289236 0.66015634 0.65849669\n",
      " 0.65849669 0.68192423 0.6791341  0.70001203 0.7039567  0.70556825\n",
      " 0.70131088 0.71651233 0.72293446 0.711365   0.70948888 0.72901984\n",
      " 0.71595911 0.71858088 0.67598316 0.67377029 0.69488876 0.67990379\n",
      " 0.69710162 0.70816597 0.80505111 0.83081179 0.83781118 0.8416356\n",
      " 0.87858088 0.85173782 0.86727601 0.83502105 0.86999399 0.88923632\n",
      " 0.88825015 0.8853638  0.89455201 0.89594708 0.92064943 0.97929044\n",
      " 0.99360192 0.98366807 1.         0.98544799 0.9834997  0.09308479\n",
      " 0.10544799 0.09876127 0.07345761 0.07365003 0.05407096 0.06489477\n",
      " 0.0556825  0.05209862 0.06016837 0.06061335 0.0524113  0.04810583\n",
      " 0.03968731 0.04748046 0.05164161 0.04036079 0.04300661 0.0527721\n",
      " 0.05921828 0.05712568 0.06126278 0.06361996 0.05455201 0.06292243\n",
      " 0.05488876 0.05950692 0.05924233 0.06405292 0.08192423 0.07398677\n",
      " 0.07420325 0.07304871 0.06898376 0.06167168 0.06535177 0.06381239\n",
      " 0.06111846 0.0594107  0.05943476 0.06316296 0.05017438 0.06008419\n",
      " 0.044546   0.04432952 0.04834636 0.05919423 0.06900782 0.06819002\n",
      " 0.06248948 0.05853318 0.06114216 0.06294128]\n",
      "3 day output [[0.06412989]]\n",
      "4 day input [0.66025256 0.63328924 0.65289236 0.66015634 0.65849669 0.65849669\n",
      " 0.68192423 0.6791341  0.70001203 0.7039567  0.70556825 0.70131088\n",
      " 0.71651233 0.72293446 0.711365   0.70948888 0.72901984 0.71595911\n",
      " 0.71858088 0.67598316 0.67377029 0.69488876 0.67990379 0.69710162\n",
      " 0.70816597 0.80505111 0.83081179 0.83781118 0.8416356  0.87858088\n",
      " 0.85173782 0.86727601 0.83502105 0.86999399 0.88923632 0.88825015\n",
      " 0.8853638  0.89455201 0.89594708 0.92064943 0.97929044 0.99360192\n",
      " 0.98366807 1.         0.98544799 0.9834997  0.09308479 0.10544799\n",
      " 0.09876127 0.07345761 0.07365003 0.05407096 0.06489477 0.0556825\n",
      " 0.05209862 0.06016837 0.06061335 0.0524113  0.04810583 0.03968731\n",
      " 0.04748046 0.05164161 0.04036079 0.04300661 0.0527721  0.05921828\n",
      " 0.05712568 0.06126278 0.06361996 0.05455201 0.06292243 0.05488876\n",
      " 0.05950692 0.05924233 0.06405292 0.08192423 0.07398677 0.07420325\n",
      " 0.07304871 0.06898376 0.06167168 0.06535177 0.06381239 0.06111846\n",
      " 0.0594107  0.05943476 0.06316296 0.05017438 0.06008419 0.044546\n",
      " 0.04432952 0.04834636 0.05919423 0.06900782 0.06819002 0.06248948\n",
      " 0.05853318 0.06114216 0.06294128 0.06412989]\n",
      "4 day output [[0.06495908]]\n",
      "5 day input [0.63328924 0.65289236 0.66015634 0.65849669 0.65849669 0.68192423\n",
      " 0.6791341  0.70001203 0.7039567  0.70556825 0.70131088 0.71651233\n",
      " 0.72293446 0.711365   0.70948888 0.72901984 0.71595911 0.71858088\n",
      " 0.67598316 0.67377029 0.69488876 0.67990379 0.69710162 0.70816597\n",
      " 0.80505111 0.83081179 0.83781118 0.8416356  0.87858088 0.85173782\n",
      " 0.86727601 0.83502105 0.86999399 0.88923632 0.88825015 0.8853638\n",
      " 0.89455201 0.89594708 0.92064943 0.97929044 0.99360192 0.98366807\n",
      " 1.         0.98544799 0.9834997  0.09308479 0.10544799 0.09876127\n",
      " 0.07345761 0.07365003 0.05407096 0.06489477 0.0556825  0.05209862\n",
      " 0.06016837 0.06061335 0.0524113  0.04810583 0.03968731 0.04748046\n",
      " 0.05164161 0.04036079 0.04300661 0.0527721  0.05921828 0.05712568\n",
      " 0.06126278 0.06361996 0.05455201 0.06292243 0.05488876 0.05950692\n",
      " 0.05924233 0.06405292 0.08192423 0.07398677 0.07420325 0.07304871\n",
      " 0.06898376 0.06167168 0.06535177 0.06381239 0.06111846 0.0594107\n",
      " 0.05943476 0.06316296 0.05017438 0.06008419 0.044546   0.04432952\n",
      " 0.04834636 0.05919423 0.06900782 0.06819002 0.06248948 0.05853318\n",
      " 0.06114216 0.06294128 0.06412989 0.06495908]\n",
      "5 day output [[0.06562039]]\n",
      "6 day input [0.65289236 0.66015634 0.65849669 0.65849669 0.68192423 0.6791341\n",
      " 0.70001203 0.7039567  0.70556825 0.70131088 0.71651233 0.72293446\n",
      " 0.711365   0.70948888 0.72901984 0.71595911 0.71858088 0.67598316\n",
      " 0.67377029 0.69488876 0.67990379 0.69710162 0.70816597 0.80505111\n",
      " 0.83081179 0.83781118 0.8416356  0.87858088 0.85173782 0.86727601\n",
      " 0.83502105 0.86999399 0.88923632 0.88825015 0.8853638  0.89455201\n",
      " 0.89594708 0.92064943 0.97929044 0.99360192 0.98366807 1.\n",
      " 0.98544799 0.9834997  0.09308479 0.10544799 0.09876127 0.07345761\n",
      " 0.07365003 0.05407096 0.06489477 0.0556825  0.05209862 0.06016837\n",
      " 0.06061335 0.0524113  0.04810583 0.03968731 0.04748046 0.05164161\n",
      " 0.04036079 0.04300661 0.0527721  0.05921828 0.05712568 0.06126278\n",
      " 0.06361996 0.05455201 0.06292243 0.05488876 0.05950692 0.05924233\n",
      " 0.06405292 0.08192423 0.07398677 0.07420325 0.07304871 0.06898376\n",
      " 0.06167168 0.06535177 0.06381239 0.06111846 0.0594107  0.05943476\n",
      " 0.06316296 0.05017438 0.06008419 0.044546   0.04432952 0.04834636\n",
      " 0.05919423 0.06900782 0.06819002 0.06248948 0.05853318 0.06114216\n",
      " 0.06294128 0.06412989 0.06495908 0.06562039]\n",
      "6 day output [[0.0662275]]\n",
      "7 day input [0.66015634 0.65849669 0.65849669 0.68192423 0.6791341  0.70001203\n",
      " 0.7039567  0.70556825 0.70131088 0.71651233 0.72293446 0.711365\n",
      " 0.70948888 0.72901984 0.71595911 0.71858088 0.67598316 0.67377029\n",
      " 0.69488876 0.67990379 0.69710162 0.70816597 0.80505111 0.83081179\n",
      " 0.83781118 0.8416356  0.87858088 0.85173782 0.86727601 0.83502105\n",
      " 0.86999399 0.88923632 0.88825015 0.8853638  0.89455201 0.89594708\n",
      " 0.92064943 0.97929044 0.99360192 0.98366807 1.         0.98544799\n",
      " 0.9834997  0.09308479 0.10544799 0.09876127 0.07345761 0.07365003\n",
      " 0.05407096 0.06489477 0.0556825  0.05209862 0.06016837 0.06061335\n",
      " 0.0524113  0.04810583 0.03968731 0.04748046 0.05164161 0.04036079\n",
      " 0.04300661 0.0527721  0.05921828 0.05712568 0.06126278 0.06361996\n",
      " 0.05455201 0.06292243 0.05488876 0.05950692 0.05924233 0.06405292\n",
      " 0.08192423 0.07398677 0.07420325 0.07304871 0.06898376 0.06167168\n",
      " 0.06535177 0.06381239 0.06111846 0.0594107  0.05943476 0.06316296\n",
      " 0.05017438 0.06008419 0.044546   0.04432952 0.04834636 0.05919423\n",
      " 0.06900782 0.06819002 0.06248948 0.05853318 0.06114216 0.06294128\n",
      " 0.06412989 0.06495908 0.06562039 0.0662275 ]\n",
      "7 day output [[0.06683542]]\n",
      "8 day input [0.65849669 0.65849669 0.68192423 0.6791341  0.70001203 0.7039567\n",
      " 0.70556825 0.70131088 0.71651233 0.72293446 0.711365   0.70948888\n",
      " 0.72901984 0.71595911 0.71858088 0.67598316 0.67377029 0.69488876\n",
      " 0.67990379 0.69710162 0.70816597 0.80505111 0.83081179 0.83781118\n",
      " 0.8416356  0.87858088 0.85173782 0.86727601 0.83502105 0.86999399\n",
      " 0.88923632 0.88825015 0.8853638  0.89455201 0.89594708 0.92064943\n",
      " 0.97929044 0.99360192 0.98366807 1.         0.98544799 0.9834997\n",
      " 0.09308479 0.10544799 0.09876127 0.07345761 0.07365003 0.05407096\n",
      " 0.06489477 0.0556825  0.05209862 0.06016837 0.06061335 0.0524113\n",
      " 0.04810583 0.03968731 0.04748046 0.05164161 0.04036079 0.04300661\n",
      " 0.0527721  0.05921828 0.05712568 0.06126278 0.06361996 0.05455201\n",
      " 0.06292243 0.05488876 0.05950692 0.05924233 0.06405292 0.08192423\n",
      " 0.07398677 0.07420325 0.07304871 0.06898376 0.06167168 0.06535177\n",
      " 0.06381239 0.06111846 0.0594107  0.05943476 0.06316296 0.05017438\n",
      " 0.06008419 0.044546   0.04432952 0.04834636 0.05919423 0.06900782\n",
      " 0.06819002 0.06248948 0.05853318 0.06114216 0.06294128 0.06412989\n",
      " 0.06495908 0.06562039 0.0662275  0.06683542]\n"
     ]
    },
    {
     "name": "stdout",
     "output_type": "stream",
     "text": [
      "8 day output [[0.06746416]]\n",
      "9 day input [0.65849669 0.68192423 0.6791341  0.70001203 0.7039567  0.70556825\n",
      " 0.70131088 0.71651233 0.72293446 0.711365   0.70948888 0.72901984\n",
      " 0.71595911 0.71858088 0.67598316 0.67377029 0.69488876 0.67990379\n",
      " 0.69710162 0.70816597 0.80505111 0.83081179 0.83781118 0.8416356\n",
      " 0.87858088 0.85173782 0.86727601 0.83502105 0.86999399 0.88923632\n",
      " 0.88825015 0.8853638  0.89455201 0.89594708 0.92064943 0.97929044\n",
      " 0.99360192 0.98366807 1.         0.98544799 0.9834997  0.09308479\n",
      " 0.10544799 0.09876127 0.07345761 0.07365003 0.05407096 0.06489477\n",
      " 0.0556825  0.05209862 0.06016837 0.06061335 0.0524113  0.04810583\n",
      " 0.03968731 0.04748046 0.05164161 0.04036079 0.04300661 0.0527721\n",
      " 0.05921828 0.05712568 0.06126278 0.06361996 0.05455201 0.06292243\n",
      " 0.05488876 0.05950692 0.05924233 0.06405292 0.08192423 0.07398677\n",
      " 0.07420325 0.07304871 0.06898376 0.06167168 0.06535177 0.06381239\n",
      " 0.06111846 0.0594107  0.05943476 0.06316296 0.05017438 0.06008419\n",
      " 0.044546   0.04432952 0.04834636 0.05919423 0.06900782 0.06819002\n",
      " 0.06248948 0.05853318 0.06114216 0.06294128 0.06412989 0.06495908\n",
      " 0.06562039 0.0662275  0.06683542 0.06746416]\n",
      "9 day output [[0.06811748]]\n",
      "10 day input [0.68192423 0.6791341  0.70001203 0.7039567  0.70556825 0.70131088\n",
      " 0.71651233 0.72293446 0.711365   0.70948888 0.72901984 0.71595911\n",
      " 0.71858088 0.67598316 0.67377029 0.69488876 0.67990379 0.69710162\n",
      " 0.70816597 0.80505111 0.83081179 0.83781118 0.8416356  0.87858088\n",
      " 0.85173782 0.86727601 0.83502105 0.86999399 0.88923632 0.88825015\n",
      " 0.8853638  0.89455201 0.89594708 0.92064943 0.97929044 0.99360192\n",
      " 0.98366807 1.         0.98544799 0.9834997  0.09308479 0.10544799\n",
      " 0.09876127 0.07345761 0.07365003 0.05407096 0.06489477 0.0556825\n",
      " 0.05209862 0.06016837 0.06061335 0.0524113  0.04810583 0.03968731\n",
      " 0.04748046 0.05164161 0.04036079 0.04300661 0.0527721  0.05921828\n",
      " 0.05712568 0.06126278 0.06361996 0.05455201 0.06292243 0.05488876\n",
      " 0.05950692 0.05924233 0.06405292 0.08192423 0.07398677 0.07420325\n",
      " 0.07304871 0.06898376 0.06167168 0.06535177 0.06381239 0.06111846\n",
      " 0.0594107  0.05943476 0.06316296 0.05017438 0.06008419 0.044546\n",
      " 0.04432952 0.04834636 0.05919423 0.06900782 0.06819002 0.06248948\n",
      " 0.05853318 0.06114216 0.06294128 0.06412989 0.06495908 0.06562039\n",
      " 0.0662275  0.06683542 0.06746416 0.06811748]\n",
      "10 day output [[0.06879371]]\n",
      "11 day input [0.6791341  0.70001203 0.7039567  0.70556825 0.70131088 0.71651233\n",
      " 0.72293446 0.711365   0.70948888 0.72901984 0.71595911 0.71858088\n",
      " 0.67598316 0.67377029 0.69488876 0.67990379 0.69710162 0.70816597\n",
      " 0.80505111 0.83081179 0.83781118 0.8416356  0.87858088 0.85173782\n",
      " 0.86727601 0.83502105 0.86999399 0.88923632 0.88825015 0.8853638\n",
      " 0.89455201 0.89594708 0.92064943 0.97929044 0.99360192 0.98366807\n",
      " 1.         0.98544799 0.9834997  0.09308479 0.10544799 0.09876127\n",
      " 0.07345761 0.07365003 0.05407096 0.06489477 0.0556825  0.05209862\n",
      " 0.06016837 0.06061335 0.0524113  0.04810583 0.03968731 0.04748046\n",
      " 0.05164161 0.04036079 0.04300661 0.0527721  0.05921828 0.05712568\n",
      " 0.06126278 0.06361996 0.05455201 0.06292243 0.05488876 0.05950692\n",
      " 0.05924233 0.06405292 0.08192423 0.07398677 0.07420325 0.07304871\n",
      " 0.06898376 0.06167168 0.06535177 0.06381239 0.06111846 0.0594107\n",
      " 0.05943476 0.06316296 0.05017438 0.06008419 0.044546   0.04432952\n",
      " 0.04834636 0.05919423 0.06900782 0.06819002 0.06248948 0.05853318\n",
      " 0.06114216 0.06294128 0.06412989 0.06495908 0.06562039 0.0662275\n",
      " 0.06683542 0.06746416 0.06811748 0.06879371]\n",
      "11 day output [[0.06949058]]\n",
      "12 day input [0.70001203 0.7039567  0.70556825 0.70131088 0.71651233 0.72293446\n",
      " 0.711365   0.70948888 0.72901984 0.71595911 0.71858088 0.67598316\n",
      " 0.67377029 0.69488876 0.67990379 0.69710162 0.70816597 0.80505111\n",
      " 0.83081179 0.83781118 0.8416356  0.87858088 0.85173782 0.86727601\n",
      " 0.83502105 0.86999399 0.88923632 0.88825015 0.8853638  0.89455201\n",
      " 0.89594708 0.92064943 0.97929044 0.99360192 0.98366807 1.\n",
      " 0.98544799 0.9834997  0.09308479 0.10544799 0.09876127 0.07345761\n",
      " 0.07365003 0.05407096 0.06489477 0.0556825  0.05209862 0.06016837\n",
      " 0.06061335 0.0524113  0.04810583 0.03968731 0.04748046 0.05164161\n",
      " 0.04036079 0.04300661 0.0527721  0.05921828 0.05712568 0.06126278\n",
      " 0.06361996 0.05455201 0.06292243 0.05488876 0.05950692 0.05924233\n",
      " 0.06405292 0.08192423 0.07398677 0.07420325 0.07304871 0.06898376\n",
      " 0.06167168 0.06535177 0.06381239 0.06111846 0.0594107  0.05943476\n",
      " 0.06316296 0.05017438 0.06008419 0.044546   0.04432952 0.04834636\n",
      " 0.05919423 0.06900782 0.06819002 0.06248948 0.05853318 0.06114216\n",
      " 0.06294128 0.06412989 0.06495908 0.06562039 0.0662275  0.06683542\n",
      " 0.06746416 0.06811748 0.06879371 0.06949058]\n",
      "12 day output [[0.07020655]]\n",
      "13 day input [0.7039567  0.70556825 0.70131088 0.71651233 0.72293446 0.711365\n",
      " 0.70948888 0.72901984 0.71595911 0.71858088 0.67598316 0.67377029\n",
      " 0.69488876 0.67990379 0.69710162 0.70816597 0.80505111 0.83081179\n",
      " 0.83781118 0.8416356  0.87858088 0.85173782 0.86727601 0.83502105\n",
      " 0.86999399 0.88923632 0.88825015 0.8853638  0.89455201 0.89594708\n",
      " 0.92064943 0.97929044 0.99360192 0.98366807 1.         0.98544799\n",
      " 0.9834997  0.09308479 0.10544799 0.09876127 0.07345761 0.07365003\n",
      " 0.05407096 0.06489477 0.0556825  0.05209862 0.06016837 0.06061335\n",
      " 0.0524113  0.04810583 0.03968731 0.04748046 0.05164161 0.04036079\n",
      " 0.04300661 0.0527721  0.05921828 0.05712568 0.06126278 0.06361996\n",
      " 0.05455201 0.06292243 0.05488876 0.05950692 0.05924233 0.06405292\n",
      " 0.08192423 0.07398677 0.07420325 0.07304871 0.06898376 0.06167168\n",
      " 0.06535177 0.06381239 0.06111846 0.0594107  0.05943476 0.06316296\n",
      " 0.05017438 0.06008419 0.044546   0.04432952 0.04834636 0.05919423\n",
      " 0.06900782 0.06819002 0.06248948 0.05853318 0.06114216 0.06294128\n",
      " 0.06412989 0.06495908 0.06562039 0.0662275  0.06683542 0.06746416\n",
      " 0.06811748 0.06879371 0.06949058 0.07020655]\n",
      "13 day output [[0.07094109]]\n",
      "14 day input [0.70556825 0.70131088 0.71651233 0.72293446 0.711365   0.70948888\n",
      " 0.72901984 0.71595911 0.71858088 0.67598316 0.67377029 0.69488876\n",
      " 0.67990379 0.69710162 0.70816597 0.80505111 0.83081179 0.83781118\n",
      " 0.8416356  0.87858088 0.85173782 0.86727601 0.83502105 0.86999399\n",
      " 0.88923632 0.88825015 0.8853638  0.89455201 0.89594708 0.92064943\n",
      " 0.97929044 0.99360192 0.98366807 1.         0.98544799 0.9834997\n",
      " 0.09308479 0.10544799 0.09876127 0.07345761 0.07365003 0.05407096\n",
      " 0.06489477 0.0556825  0.05209862 0.06016837 0.06061335 0.0524113\n",
      " 0.04810583 0.03968731 0.04748046 0.05164161 0.04036079 0.04300661\n",
      " 0.0527721  0.05921828 0.05712568 0.06126278 0.06361996 0.05455201\n",
      " 0.06292243 0.05488876 0.05950692 0.05924233 0.06405292 0.08192423\n",
      " 0.07398677 0.07420325 0.07304871 0.06898376 0.06167168 0.06535177\n",
      " 0.06381239 0.06111846 0.0594107  0.05943476 0.06316296 0.05017438\n",
      " 0.06008419 0.044546   0.04432952 0.04834636 0.05919423 0.06900782\n",
      " 0.06819002 0.06248948 0.05853318 0.06114216 0.06294128 0.06412989\n",
      " 0.06495908 0.06562039 0.0662275  0.06683542 0.06746416 0.06811748\n",
      " 0.06879371 0.06949058 0.07020655 0.07094109]\n",
      "14 day output [[0.07169411]]\n",
      "15 day input [0.70131088 0.71651233 0.72293446 0.711365   0.70948888 0.72901984\n",
      " 0.71595911 0.71858088 0.67598316 0.67377029 0.69488876 0.67990379\n",
      " 0.69710162 0.70816597 0.80505111 0.83081179 0.83781118 0.8416356\n",
      " 0.87858088 0.85173782 0.86727601 0.83502105 0.86999399 0.88923632\n",
      " 0.88825015 0.8853638  0.89455201 0.89594708 0.92064943 0.97929044\n",
      " 0.99360192 0.98366807 1.         0.98544799 0.9834997  0.09308479\n",
      " 0.10544799 0.09876127 0.07345761 0.07365003 0.05407096 0.06489477\n",
      " 0.0556825  0.05209862 0.06016837 0.06061335 0.0524113  0.04810583\n",
      " 0.03968731 0.04748046 0.05164161 0.04036079 0.04300661 0.0527721\n",
      " 0.05921828 0.05712568 0.06126278 0.06361996 0.05455201 0.06292243\n",
      " 0.05488876 0.05950692 0.05924233 0.06405292 0.08192423 0.07398677\n",
      " 0.07420325 0.07304871 0.06898376 0.06167168 0.06535177 0.06381239\n",
      " 0.06111846 0.0594107  0.05943476 0.06316296 0.05017438 0.06008419\n",
      " 0.044546   0.04432952 0.04834636 0.05919423 0.06900782 0.06819002\n",
      " 0.06248948 0.05853318 0.06114216 0.06294128 0.06412989 0.06495908\n",
      " 0.06562039 0.0662275  0.06683542 0.06746416 0.06811748 0.06879371\n",
      " 0.06949058 0.07020655 0.07094109 0.07169411]\n",
      "15 day output [[0.07246559]]\n",
      "16 day input [0.71651233 0.72293446 0.711365   0.70948888 0.72901984 0.71595911\n",
      " 0.71858088 0.67598316 0.67377029 0.69488876 0.67990379 0.69710162\n",
      " 0.70816597 0.80505111 0.83081179 0.83781118 0.8416356  0.87858088\n",
      " 0.85173782 0.86727601 0.83502105 0.86999399 0.88923632 0.88825015\n",
      " 0.8853638  0.89455201 0.89594708 0.92064943 0.97929044 0.99360192\n",
      " 0.98366807 1.         0.98544799 0.9834997  0.09308479 0.10544799\n",
      " 0.09876127 0.07345761 0.07365003 0.05407096 0.06489477 0.0556825\n",
      " 0.05209862 0.06016837 0.06061335 0.0524113  0.04810583 0.03968731\n",
      " 0.04748046 0.05164161 0.04036079 0.04300661 0.0527721  0.05921828\n",
      " 0.05712568 0.06126278 0.06361996 0.05455201 0.06292243 0.05488876\n",
      " 0.05950692 0.05924233 0.06405292 0.08192423 0.07398677 0.07420325\n",
      " 0.07304871 0.06898376 0.06167168 0.06535177 0.06381239 0.06111846\n",
      " 0.0594107  0.05943476 0.06316296 0.05017438 0.06008419 0.044546\n",
      " 0.04432952 0.04834636 0.05919423 0.06900782 0.06819002 0.06248948\n",
      " 0.05853318 0.06114216 0.06294128 0.06412989 0.06495908 0.06562039\n",
      " 0.0662275  0.06683542 0.06746416 0.06811748 0.06879371 0.06949058\n",
      " 0.07020655 0.07094109 0.07169411 0.07246559]\n"
     ]
    },
    {
     "name": "stdout",
     "output_type": "stream",
     "text": [
      "16 day output [[0.0732554]]\n",
      "17 day input [0.72293446 0.711365   0.70948888 0.72901984 0.71595911 0.71858088\n",
      " 0.67598316 0.67377029 0.69488876 0.67990379 0.69710162 0.70816597\n",
      " 0.80505111 0.83081179 0.83781118 0.8416356  0.87858088 0.85173782\n",
      " 0.86727601 0.83502105 0.86999399 0.88923632 0.88825015 0.8853638\n",
      " 0.89455201 0.89594708 0.92064943 0.97929044 0.99360192 0.98366807\n",
      " 1.         0.98544799 0.9834997  0.09308479 0.10544799 0.09876127\n",
      " 0.07345761 0.07365003 0.05407096 0.06489477 0.0556825  0.05209862\n",
      " 0.06016837 0.06061335 0.0524113  0.04810583 0.03968731 0.04748046\n",
      " 0.05164161 0.04036079 0.04300661 0.0527721  0.05921828 0.05712568\n",
      " 0.06126278 0.06361996 0.05455201 0.06292243 0.05488876 0.05950692\n",
      " 0.05924233 0.06405292 0.08192423 0.07398677 0.07420325 0.07304871\n",
      " 0.06898376 0.06167168 0.06535177 0.06381239 0.06111846 0.0594107\n",
      " 0.05943476 0.06316296 0.05017438 0.06008419 0.044546   0.04432952\n",
      " 0.04834636 0.05919423 0.06900782 0.06819002 0.06248948 0.05853318\n",
      " 0.06114216 0.06294128 0.06412989 0.06495908 0.06562039 0.0662275\n",
      " 0.06683542 0.06746416 0.06811748 0.06879371 0.06949058 0.07020655\n",
      " 0.07094109 0.07169411 0.07246559 0.0732554 ]\n",
      "17 day output [[0.07406338]]\n",
      "18 day input [0.711365   0.70948888 0.72901984 0.71595911 0.71858088 0.67598316\n",
      " 0.67377029 0.69488876 0.67990379 0.69710162 0.70816597 0.80505111\n",
      " 0.83081179 0.83781118 0.8416356  0.87858088 0.85173782 0.86727601\n",
      " 0.83502105 0.86999399 0.88923632 0.88825015 0.8853638  0.89455201\n",
      " 0.89594708 0.92064943 0.97929044 0.99360192 0.98366807 1.\n",
      " 0.98544799 0.9834997  0.09308479 0.10544799 0.09876127 0.07345761\n",
      " 0.07365003 0.05407096 0.06489477 0.0556825  0.05209862 0.06016837\n",
      " 0.06061335 0.0524113  0.04810583 0.03968731 0.04748046 0.05164161\n",
      " 0.04036079 0.04300661 0.0527721  0.05921828 0.05712568 0.06126278\n",
      " 0.06361996 0.05455201 0.06292243 0.05488876 0.05950692 0.05924233\n",
      " 0.06405292 0.08192423 0.07398677 0.07420325 0.07304871 0.06898376\n",
      " 0.06167168 0.06535177 0.06381239 0.06111846 0.0594107  0.05943476\n",
      " 0.06316296 0.05017438 0.06008419 0.044546   0.04432952 0.04834636\n",
      " 0.05919423 0.06900782 0.06819002 0.06248948 0.05853318 0.06114216\n",
      " 0.06294128 0.06412989 0.06495908 0.06562039 0.0662275  0.06683542\n",
      " 0.06746416 0.06811748 0.06879371 0.06949058 0.07020655 0.07094109\n",
      " 0.07169411 0.07246559 0.0732554  0.07406338]\n",
      "18 day output [[0.07488896]]\n",
      "19 day input [0.70948888 0.72901984 0.71595911 0.71858088 0.67598316 0.67377029\n",
      " 0.69488876 0.67990379 0.69710162 0.70816597 0.80505111 0.83081179\n",
      " 0.83781118 0.8416356  0.87858088 0.85173782 0.86727601 0.83502105\n",
      " 0.86999399 0.88923632 0.88825015 0.8853638  0.89455201 0.89594708\n",
      " 0.92064943 0.97929044 0.99360192 0.98366807 1.         0.98544799\n",
      " 0.9834997  0.09308479 0.10544799 0.09876127 0.07345761 0.07365003\n",
      " 0.05407096 0.06489477 0.0556825  0.05209862 0.06016837 0.06061335\n",
      " 0.0524113  0.04810583 0.03968731 0.04748046 0.05164161 0.04036079\n",
      " 0.04300661 0.0527721  0.05921828 0.05712568 0.06126278 0.06361996\n",
      " 0.05455201 0.06292243 0.05488876 0.05950692 0.05924233 0.06405292\n",
      " 0.08192423 0.07398677 0.07420325 0.07304871 0.06898376 0.06167168\n",
      " 0.06535177 0.06381239 0.06111846 0.0594107  0.05943476 0.06316296\n",
      " 0.05017438 0.06008419 0.044546   0.04432952 0.04834636 0.05919423\n",
      " 0.06900782 0.06819002 0.06248948 0.05853318 0.06114216 0.06294128\n",
      " 0.06412989 0.06495908 0.06562039 0.0662275  0.06683542 0.06746416\n",
      " 0.06811748 0.06879371 0.06949058 0.07020655 0.07094109 0.07169411\n",
      " 0.07246559 0.0732554  0.07406338 0.07488896]\n",
      "19 day output [[0.07573172]]\n",
      "20 day input [0.72901984 0.71595911 0.71858088 0.67598316 0.67377029 0.69488876\n",
      " 0.67990379 0.69710162 0.70816597 0.80505111 0.83081179 0.83781118\n",
      " 0.8416356  0.87858088 0.85173782 0.86727601 0.83502105 0.86999399\n",
      " 0.88923632 0.88825015 0.8853638  0.89455201 0.89594708 0.92064943\n",
      " 0.97929044 0.99360192 0.98366807 1.         0.98544799 0.9834997\n",
      " 0.09308479 0.10544799 0.09876127 0.07345761 0.07365003 0.05407096\n",
      " 0.06489477 0.0556825  0.05209862 0.06016837 0.06061335 0.0524113\n",
      " 0.04810583 0.03968731 0.04748046 0.05164161 0.04036079 0.04300661\n",
      " 0.0527721  0.05921828 0.05712568 0.06126278 0.06361996 0.05455201\n",
      " 0.06292243 0.05488876 0.05950692 0.05924233 0.06405292 0.08192423\n",
      " 0.07398677 0.07420325 0.07304871 0.06898376 0.06167168 0.06535177\n",
      " 0.06381239 0.06111846 0.0594107  0.05943476 0.06316296 0.05017438\n",
      " 0.06008419 0.044546   0.04432952 0.04834636 0.05919423 0.06900782\n",
      " 0.06819002 0.06248948 0.05853318 0.06114216 0.06294128 0.06412989\n",
      " 0.06495908 0.06562039 0.0662275  0.06683542 0.06746416 0.06811748\n",
      " 0.06879371 0.06949058 0.07020655 0.07094109 0.07169411 0.07246559\n",
      " 0.0732554  0.07406338 0.07488896 0.07573172]\n",
      "20 day output [[0.07659109]]\n",
      "21 day input [0.71595911 0.71858088 0.67598316 0.67377029 0.69488876 0.67990379\n",
      " 0.69710162 0.70816597 0.80505111 0.83081179 0.83781118 0.8416356\n",
      " 0.87858088 0.85173782 0.86727601 0.83502105 0.86999399 0.88923632\n",
      " 0.88825015 0.8853638  0.89455201 0.89594708 0.92064943 0.97929044\n",
      " 0.99360192 0.98366807 1.         0.98544799 0.9834997  0.09308479\n",
      " 0.10544799 0.09876127 0.07345761 0.07365003 0.05407096 0.06489477\n",
      " 0.0556825  0.05209862 0.06016837 0.06061335 0.0524113  0.04810583\n",
      " 0.03968731 0.04748046 0.05164161 0.04036079 0.04300661 0.0527721\n",
      " 0.05921828 0.05712568 0.06126278 0.06361996 0.05455201 0.06292243\n",
      " 0.05488876 0.05950692 0.05924233 0.06405292 0.08192423 0.07398677\n",
      " 0.07420325 0.07304871 0.06898376 0.06167168 0.06535177 0.06381239\n",
      " 0.06111846 0.0594107  0.05943476 0.06316296 0.05017438 0.06008419\n",
      " 0.044546   0.04432952 0.04834636 0.05919423 0.06900782 0.06819002\n",
      " 0.06248948 0.05853318 0.06114216 0.06294128 0.06412989 0.06495908\n",
      " 0.06562039 0.0662275  0.06683542 0.06746416 0.06811748 0.06879371\n",
      " 0.06949058 0.07020655 0.07094109 0.07169411 0.07246559 0.0732554\n",
      " 0.07406338 0.07488896 0.07573172 0.07659109]\n",
      "21 day output [[0.07746661]]\n",
      "22 day input [0.71858088 0.67598316 0.67377029 0.69488876 0.67990379 0.69710162\n",
      " 0.70816597 0.80505111 0.83081179 0.83781118 0.8416356  0.87858088\n",
      " 0.85173782 0.86727601 0.83502105 0.86999399 0.88923632 0.88825015\n",
      " 0.8853638  0.89455201 0.89594708 0.92064943 0.97929044 0.99360192\n",
      " 0.98366807 1.         0.98544799 0.9834997  0.09308479 0.10544799\n",
      " 0.09876127 0.07345761 0.07365003 0.05407096 0.06489477 0.0556825\n",
      " 0.05209862 0.06016837 0.06061335 0.0524113  0.04810583 0.03968731\n",
      " 0.04748046 0.05164161 0.04036079 0.04300661 0.0527721  0.05921828\n",
      " 0.05712568 0.06126278 0.06361996 0.05455201 0.06292243 0.05488876\n",
      " 0.05950692 0.05924233 0.06405292 0.08192423 0.07398677 0.07420325\n",
      " 0.07304871 0.06898376 0.06167168 0.06535177 0.06381239 0.06111846\n",
      " 0.0594107  0.05943476 0.06316296 0.05017438 0.06008419 0.044546\n",
      " 0.04432952 0.04834636 0.05919423 0.06900782 0.06819002 0.06248948\n",
      " 0.05853318 0.06114216 0.06294128 0.06412989 0.06495908 0.06562039\n",
      " 0.0662275  0.06683542 0.06746416 0.06811748 0.06879371 0.06949058\n",
      " 0.07020655 0.07094109 0.07169411 0.07246559 0.0732554  0.07406338\n",
      " 0.07488896 0.07573172 0.07659109 0.07746661]\n",
      "22 day output [[0.07835773]]\n",
      "23 day input [0.67598316 0.67377029 0.69488876 0.67990379 0.69710162 0.70816597\n",
      " 0.80505111 0.83081179 0.83781118 0.8416356  0.87858088 0.85173782\n",
      " 0.86727601 0.83502105 0.86999399 0.88923632 0.88825015 0.8853638\n",
      " 0.89455201 0.89594708 0.92064943 0.97929044 0.99360192 0.98366807\n",
      " 1.         0.98544799 0.9834997  0.09308479 0.10544799 0.09876127\n",
      " 0.07345761 0.07365003 0.05407096 0.06489477 0.0556825  0.05209862\n",
      " 0.06016837 0.06061335 0.0524113  0.04810583 0.03968731 0.04748046\n",
      " 0.05164161 0.04036079 0.04300661 0.0527721  0.05921828 0.05712568\n",
      " 0.06126278 0.06361996 0.05455201 0.06292243 0.05488876 0.05950692\n",
      " 0.05924233 0.06405292 0.08192423 0.07398677 0.07420325 0.07304871\n",
      " 0.06898376 0.06167168 0.06535177 0.06381239 0.06111846 0.0594107\n",
      " 0.05943476 0.06316296 0.05017438 0.06008419 0.044546   0.04432952\n",
      " 0.04834636 0.05919423 0.06900782 0.06819002 0.06248948 0.05853318\n",
      " 0.06114216 0.06294128 0.06412989 0.06495908 0.06562039 0.0662275\n",
      " 0.06683542 0.06746416 0.06811748 0.06879371 0.06949058 0.07020655\n",
      " 0.07094109 0.07169411 0.07246559 0.0732554  0.07406338 0.07488896\n",
      " 0.07573172 0.07659109 0.07746661 0.07835773]\n",
      "23 day output [[0.07926417]]\n",
      "24 day input [0.67377029 0.69488876 0.67990379 0.69710162 0.70816597 0.80505111\n",
      " 0.83081179 0.83781118 0.8416356  0.87858088 0.85173782 0.86727601\n",
      " 0.83502105 0.86999399 0.88923632 0.88825015 0.8853638  0.89455201\n",
      " 0.89594708 0.92064943 0.97929044 0.99360192 0.98366807 1.\n",
      " 0.98544799 0.9834997  0.09308479 0.10544799 0.09876127 0.07345761\n",
      " 0.07365003 0.05407096 0.06489477 0.0556825  0.05209862 0.06016837\n",
      " 0.06061335 0.0524113  0.04810583 0.03968731 0.04748046 0.05164161\n",
      " 0.04036079 0.04300661 0.0527721  0.05921828 0.05712568 0.06126278\n",
      " 0.06361996 0.05455201 0.06292243 0.05488876 0.05950692 0.05924233\n",
      " 0.06405292 0.08192423 0.07398677 0.07420325 0.07304871 0.06898376\n",
      " 0.06167168 0.06535177 0.06381239 0.06111846 0.0594107  0.05943476\n",
      " 0.06316296 0.05017438 0.06008419 0.044546   0.04432952 0.04834636\n",
      " 0.05919423 0.06900782 0.06819002 0.06248948 0.05853318 0.06114216\n",
      " 0.06294128 0.06412989 0.06495908 0.06562039 0.0662275  0.06683542\n",
      " 0.06746416 0.06811748 0.06879371 0.06949058 0.07020655 0.07094109\n",
      " 0.07169411 0.07246559 0.0732554  0.07406338 0.07488896 0.07573172\n",
      " 0.07659109 0.07746661 0.07835773 0.07926417]\n",
      "24 day output [[0.08018558]]\n",
      "25 day input [0.69488876 0.67990379 0.69710162 0.70816597 0.80505111 0.83081179\n",
      " 0.83781118 0.8416356  0.87858088 0.85173782 0.86727601 0.83502105\n",
      " 0.86999399 0.88923632 0.88825015 0.8853638  0.89455201 0.89594708\n",
      " 0.92064943 0.97929044 0.99360192 0.98366807 1.         0.98544799\n",
      " 0.9834997  0.09308479 0.10544799 0.09876127 0.07345761 0.07365003\n",
      " 0.05407096 0.06489477 0.0556825  0.05209862 0.06016837 0.06061335\n",
      " 0.0524113  0.04810583 0.03968731 0.04748046 0.05164161 0.04036079\n",
      " 0.04300661 0.0527721  0.05921828 0.05712568 0.06126278 0.06361996\n",
      " 0.05455201 0.06292243 0.05488876 0.05950692 0.05924233 0.06405292\n",
      " 0.08192423 0.07398677 0.07420325 0.07304871 0.06898376 0.06167168\n",
      " 0.06535177 0.06381239 0.06111846 0.0594107  0.05943476 0.06316296\n",
      " 0.05017438 0.06008419 0.044546   0.04432952 0.04834636 0.05919423\n",
      " 0.06900782 0.06819002 0.06248948 0.05853318 0.06114216 0.06294128\n",
      " 0.06412989 0.06495908 0.06562039 0.0662275  0.06683542 0.06746416\n",
      " 0.06811748 0.06879371 0.06949058 0.07020655 0.07094109 0.07169411\n",
      " 0.07246559 0.0732554  0.07406338 0.07488896 0.07573172 0.07659109\n",
      " 0.07746661 0.07835773 0.07926417 0.08018558]\n"
     ]
    },
    {
     "name": "stdout",
     "output_type": "stream",
     "text": [
      "25 day output [[0.08112176]]\n",
      "26 day input [0.67990379 0.69710162 0.70816597 0.80505111 0.83081179 0.83781118\n",
      " 0.8416356  0.87858088 0.85173782 0.86727601 0.83502105 0.86999399\n",
      " 0.88923632 0.88825015 0.8853638  0.89455201 0.89594708 0.92064943\n",
      " 0.97929044 0.99360192 0.98366807 1.         0.98544799 0.9834997\n",
      " 0.09308479 0.10544799 0.09876127 0.07345761 0.07365003 0.05407096\n",
      " 0.06489477 0.0556825  0.05209862 0.06016837 0.06061335 0.0524113\n",
      " 0.04810583 0.03968731 0.04748046 0.05164161 0.04036079 0.04300661\n",
      " 0.0527721  0.05921828 0.05712568 0.06126278 0.06361996 0.05455201\n",
      " 0.06292243 0.05488876 0.05950692 0.05924233 0.06405292 0.08192423\n",
      " 0.07398677 0.07420325 0.07304871 0.06898376 0.06167168 0.06535177\n",
      " 0.06381239 0.06111846 0.0594107  0.05943476 0.06316296 0.05017438\n",
      " 0.06008419 0.044546   0.04432952 0.04834636 0.05919423 0.06900782\n",
      " 0.06819002 0.06248948 0.05853318 0.06114216 0.06294128 0.06412989\n",
      " 0.06495908 0.06562039 0.0662275  0.06683542 0.06746416 0.06811748\n",
      " 0.06879371 0.06949058 0.07020655 0.07094109 0.07169411 0.07246559\n",
      " 0.0732554  0.07406338 0.07488896 0.07573172 0.07659109 0.07746661\n",
      " 0.07835773 0.07926417 0.08018558 0.08112176]\n",
      "26 day output [[0.08207262]]\n",
      "27 day input [0.69710162 0.70816597 0.80505111 0.83081179 0.83781118 0.8416356\n",
      " 0.87858088 0.85173782 0.86727601 0.83502105 0.86999399 0.88923632\n",
      " 0.88825015 0.8853638  0.89455201 0.89594708 0.92064943 0.97929044\n",
      " 0.99360192 0.98366807 1.         0.98544799 0.9834997  0.09308479\n",
      " 0.10544799 0.09876127 0.07345761 0.07365003 0.05407096 0.06489477\n",
      " 0.0556825  0.05209862 0.06016837 0.06061335 0.0524113  0.04810583\n",
      " 0.03968731 0.04748046 0.05164161 0.04036079 0.04300661 0.0527721\n",
      " 0.05921828 0.05712568 0.06126278 0.06361996 0.05455201 0.06292243\n",
      " 0.05488876 0.05950692 0.05924233 0.06405292 0.08192423 0.07398677\n",
      " 0.07420325 0.07304871 0.06898376 0.06167168 0.06535177 0.06381239\n",
      " 0.06111846 0.0594107  0.05943476 0.06316296 0.05017438 0.06008419\n",
      " 0.044546   0.04432952 0.04834636 0.05919423 0.06900782 0.06819002\n",
      " 0.06248948 0.05853318 0.06114216 0.06294128 0.06412989 0.06495908\n",
      " 0.06562039 0.0662275  0.06683542 0.06746416 0.06811748 0.06879371\n",
      " 0.06949058 0.07020655 0.07094109 0.07169411 0.07246559 0.0732554\n",
      " 0.07406338 0.07488896 0.07573172 0.07659109 0.07746661 0.07835773\n",
      " 0.07926417 0.08018558 0.08112176 0.08207262]\n",
      "27 day output [[0.08303811]]\n",
      "28 day input [0.70816597 0.80505111 0.83081179 0.83781118 0.8416356  0.87858088\n",
      " 0.85173782 0.86727601 0.83502105 0.86999399 0.88923632 0.88825015\n",
      " 0.8853638  0.89455201 0.89594708 0.92064943 0.97929044 0.99360192\n",
      " 0.98366807 1.         0.98544799 0.9834997  0.09308479 0.10544799\n",
      " 0.09876127 0.07345761 0.07365003 0.05407096 0.06489477 0.0556825\n",
      " 0.05209862 0.06016837 0.06061335 0.0524113  0.04810583 0.03968731\n",
      " 0.04748046 0.05164161 0.04036079 0.04300661 0.0527721  0.05921828\n",
      " 0.05712568 0.06126278 0.06361996 0.05455201 0.06292243 0.05488876\n",
      " 0.05950692 0.05924233 0.06405292 0.08192423 0.07398677 0.07420325\n",
      " 0.07304871 0.06898376 0.06167168 0.06535177 0.06381239 0.06111846\n",
      " 0.0594107  0.05943476 0.06316296 0.05017438 0.06008419 0.044546\n",
      " 0.04432952 0.04834636 0.05919423 0.06900782 0.06819002 0.06248948\n",
      " 0.05853318 0.06114216 0.06294128 0.06412989 0.06495908 0.06562039\n",
      " 0.0662275  0.06683542 0.06746416 0.06811748 0.06879371 0.06949058\n",
      " 0.07020655 0.07094109 0.07169411 0.07246559 0.0732554  0.07406338\n",
      " 0.07488896 0.07573172 0.07659109 0.07746661 0.07835773 0.07926417\n",
      " 0.08018558 0.08112176 0.08207262 0.08303811]\n",
      "28 day output [[0.08401823]]\n",
      "29 day input [0.80505111 0.83081179 0.83781118 0.8416356  0.87858088 0.85173782\n",
      " 0.86727601 0.83502105 0.86999399 0.88923632 0.88825015 0.8853638\n",
      " 0.89455201 0.89594708 0.92064943 0.97929044 0.99360192 0.98366807\n",
      " 1.         0.98544799 0.9834997  0.09308479 0.10544799 0.09876127\n",
      " 0.07345761 0.07365003 0.05407096 0.06489477 0.0556825  0.05209862\n",
      " 0.06016837 0.06061335 0.0524113  0.04810583 0.03968731 0.04748046\n",
      " 0.05164161 0.04036079 0.04300661 0.0527721  0.05921828 0.05712568\n",
      " 0.06126278 0.06361996 0.05455201 0.06292243 0.05488876 0.05950692\n",
      " 0.05924233 0.06405292 0.08192423 0.07398677 0.07420325 0.07304871\n",
      " 0.06898376 0.06167168 0.06535177 0.06381239 0.06111846 0.0594107\n",
      " 0.05943476 0.06316296 0.05017438 0.06008419 0.044546   0.04432952\n",
      " 0.04834636 0.05919423 0.06900782 0.06819002 0.06248948 0.05853318\n",
      " 0.06114216 0.06294128 0.06412989 0.06495908 0.06562039 0.0662275\n",
      " 0.06683542 0.06746416 0.06811748 0.06879371 0.06949058 0.07020655\n",
      " 0.07094109 0.07169411 0.07246559 0.0732554  0.07406338 0.07488896\n",
      " 0.07573172 0.07659109 0.07746661 0.07835773 0.07926417 0.08018558\n",
      " 0.08112176 0.08207262 0.08303811 0.08401823]\n",
      "29 day output [[0.08501308]]\n",
      "[[0.05853318050503731], [0.06114215776324272], [0.06294127553701401], [0.06412988901138306], [0.0649590790271759], [0.06562039256095886], [0.0662274956703186], [0.066835418343544], [0.06746415793895721], [0.06811748445034027], [0.06879371404647827], [0.06949058175086975], [0.07020654529333115], [0.07094109058380127], [0.07169410586357117], [0.07246559113264084], [0.07325540482997894], [0.07406337559223175], [0.07488895952701569], [0.07573171705007553], [0.07659108936786652], [0.07746660709381104], [0.07835773378610611], [0.07926417142152786], [0.08018557727336884], [0.08112175762653351], [0.08207262307405472], [0.08303811401128769], [0.08401823043823242], [0.08501308411359787]]\n"
     ]
    }
   ],
   "source": [
    "# demonstrate prediction for next 10 days\n",
    "from numpy import array\n",
    "\n",
    "lst_output=[]\n",
    "n_steps=100\n",
    "i=0\n",
    "while(i<30):\n",
    "    \n",
    "    if(len(temp_input)>100):\n",
    "        #print(temp_input)\n",
    "        x_input=np.array(temp_input[1:])\n",
    "        print(\"{} day input {}\".format(i,x_input))\n",
    "        x_input=x_input.reshape(1,-1)\n",
    "        x_input = x_input.reshape((1, n_steps, 1))\n",
    "        #print(x_input)\n",
    "        yhat = model.predict(x_input, verbose=0)\n",
    "        print(\"{} day output {}\".format(i,yhat))\n",
    "        temp_input.extend(yhat[0].tolist())\n",
    "        temp_input=temp_input[1:]\n",
    "        #print(temp_input)\n",
    "        lst_output.extend(yhat.tolist())\n",
    "        i=i+1\n",
    "    else:\n",
    "        x_input = x_input.reshape((1, n_steps,1))\n",
    "        yhat = model.predict(x_input, verbose=0)\n",
    "        print(yhat[0])\n",
    "        temp_input.extend(yhat[0].tolist())\n",
    "        print(len(temp_input))\n",
    "        lst_output.extend(yhat.tolist())\n",
    "        i=i+1\n",
    "    \n",
    "\n",
    "print(lst_output)"
   ]
  },
  {
   "cell_type": "code",
   "execution_count": 97,
   "metadata": {},
   "outputs": [],
   "source": [
    "day_new=np.arange(1,101)\n",
    "day_pred=np.arange(101,131)"
   ]
  },
  {
   "cell_type": "code",
   "execution_count": 101,
   "metadata": {},
   "outputs": [
    {
     "data": {
      "text/plain": [
       "1258"
      ]
     },
     "execution_count": 101,
     "metadata": {},
     "output_type": "execute_result"
    }
   ],
   "source": [
    "len(df1)"
   ]
  },
  {
   "cell_type": "code",
   "execution_count": 104,
   "metadata": {},
   "outputs": [
    {
     "data": {
      "text/plain": [
       "[<matplotlib.lines.Line2D at 0x2d2e4d64308>]"
      ]
     },
     "execution_count": 104,
     "metadata": {},
     "output_type": "execute_result"
    },
    {
     "data": {
      "image/png": "[encoded data removed]",
      "text/plain": [
       "<Figure size 432x288 with 1 Axes>"
      ]
     },
     "metadata": {
      "needs_background": "light"
     },
     "output_type": "display_data"
    }
   ],
   "source": [
    "plt.plot(day_new,scaler.inverse_transform(df1[1158:]))\n",
    "plt.plot(day_pred,scaler.inverse_transform(lst_output))"
   ]
  },
  {
   "cell_type": "code",
   "execution_count": 105,
   "metadata": {},
   "outputs": [
    {
     "data": {
      "text/plain": [
       "[<matplotlib.lines.Line2D at 0x2d2e4e2e948>]"
      ]
     },
     "execution_count": 105,
     "metadata": {},
     "output_type": "execute_result"
    },
    {
     "data": {
      "image/png": "[encoded data removed]",
      "text/plain": [
       "<Figure size 432x288 with 1 Axes>"
      ]
     },
     "metadata": {
      "needs_background": "light"
     },
     "output_type": "display_data"
    }
   ],
   "source": [
    "df3=df1.tolist()\n",
    "df3.extend(lst_output)\n",
    "plt.plot(df3[1200:])"
   ]
  },
  {
   "cell_type": "code",
   "execution_count": 106,
   "metadata": {},
   "outputs": [],
   "source": [
    "df3=scaler.inverse_transform(df3).tolist()"
   ]
  },
  {
   "cell_type": "code",
   "execution_count": 107,
   "metadata": {},
   "outputs": [
    {
     "data": {
      "text/plain": [
       "[<matplotlib.lines.Line2D at 0x2d2e4e97b48>]"
      ]
     },
     "execution_count": 107,
     "metadata": {},
     "output_type": "execute_result"
    },
    {
     "data": {
      "image/png": "[encoded data removed]",
      "text/plain": [
       "<Figure size 432x288 with 1 Axes>"
      ]
     },
     "metadata": {
      "needs_background": "light"
     },
     "output_type": "display_data"
    }
   ],
   "source": [
    "plt.plot(df3)"
   ]
  }
 ],
 "metadata": {
  "kernelspec": {
   "display_name": "Python 3",
   "language": "python",
   "name": "python3"
  },
  "language_info": {
   "codemirror_mode": {
    "name": "ipython",
    "version": 3
   },
   "file_extension": ".py",
   "mimetype": "text/x-python",
   "name": "python",
   "nbconvert_exporter": "python",
   "pygments_lexer": "ipython3",
   "version": "3.7.9"
  }
 },
 "nbformat": 4,
 "nbformat_minor": 4
}
